{
 "cells": [
  {
   "cell_type": "code",
   "execution_count": 1,
   "metadata": {},
   "outputs": [],
   "source": [
    "from selenium import webdriver\n",
    "from selenium.webdriver.common.keys import Keys\n",
    "from selenium.webdriver.common.by import By\n",
    "import time\n",
    "from parse import parse\n",
    "\n",
    "# Initializing driver\n",
    "driver = webdriver.Firefox()\n",
    "driver.get(\"https://coursefeedback.uchicago.edu/?Department=CMSC&AcademicYear=2022&AcademicTerm=Spring\")\n",
    "time.sleep(35)\n",
    "\n",
    "# Enter your credientials here\n",
    "\n",
    "Questions = {}"
   ]
  },
  {
   "cell_type": "code",
   "execution_count": 2,
   "metadata": {},
   "outputs": [],
   "source": [
    "def get_links(driver, dep, year, term):\n",
    "# Get all courses in the search\n",
    "    feedback_link = \"https://coursefeedback.uchicago.edu/?Department={}&\\\n",
    "AcademicYear={}&AcademicTerm={}\".format(dep, year, term)\n",
    "    driver.get(feedback_link)\n",
    "    courses = driver.find_elements(By.CSS_SELECTOR, \"td[class='course']>a\")\n",
    "\n",
    "    links = []\n",
    "    for course in courses:\n",
    "        links.append(course.get_attribute(\"href\"))\n",
    "\n",
    "    return links"
   ]
  },
  {
   "cell_type": "code",
   "execution_count": 5,
   "metadata": {},
   "outputs": [],
   "source": [
    "def get_id(link):\n",
    "    id = parse(\"https://uchicago.bluera.com/uchicago/rpvf-eng.aspx?lang=eng&redi=1&SelectedIDforPrint={}&ReportType=2&regl=en-US\", link)\n",
    "\n",
    "    return id[0]\n",
    "\n",
    "def parse_catalog(catalog_num):\n",
    "    result = {}\n",
    "    subject, course_id, section = catalog_num.strip().split(' ')\n",
    "    result[\"Subject\"] = subject\n",
    "    result[\"CourseId\"] = course_id\n",
    "    result[\"Section\"] = section\n",
    "\n",
    "    return result\n",
    "    \n"
   ]
  },
  {
   "cell_type": "code",
   "execution_count": 15,
   "metadata": {},
   "outputs": [],
   "source": [
    "def get_eval(driver, link, id):\n",
    "    # Get one evaluation \n",
    "    evaluation = {}\n",
    "    evaluation['Id'] = id\n",
    "    driver.get(link)\n",
    "    time.sleep(1)\n",
    "\n",
    "    # Get eval metadata\n",
    "    report_metadata = driver.find_element(By.CLASS_NAME, \"metadata\")\n",
    "\n",
    "    report_title = report_metadata.find_element(By.TAG_NAME, \"h2\").text\n",
    "    evaluation[\"Report Title\"] = report_title\n",
    "    course_num, course_name, instructors = parse(\"{} - {} - Instructor(s){}\", report_title)\n",
    "    evaluation[\"Catalog Number\"] = [parse_catalog(num) for num in course_num.split(\",\")]\n",
    "    evaluation[\"Course Name\"] = course_name\n",
    "    evaluation[\"Instructors\"] = [instructor.strip(\" :\") for instructor in instructors.split(\",\")]\n",
    "\n",
    "    offer_time, num_enrolled, num_respond = report_metadata.find_elements(By.TAG_NAME, \"dd\")[:3]\n",
    "    term, year = offer_time.text.split(\" - \")[1].split(\" \")\n",
    "    evaluation[\"Academic Year\"] = term.strip()\n",
    "    evaluation[\"Academic Term\"] = year.strip()\n",
    "    evaluation[\"Number Enrolled\"] = num_enrolled.text.strip()\n",
    "    evaluation[\"Number Responses\"] = num_respond.text.strip()\n",
    "\n",
    "    # get the questions and answers\n",
    "    text_data = {}\n",
    "    reports = driver.find_elements(By.CLASS_NAME, \"report-block\")\n",
    "    for report in reports:\n",
    "        question = report.find_element(By.TAG_NAME, \"span\").text\n",
    "\n",
    "        # filter out non-comment\n",
    "        report_head = report.find_elements(By.TAG_NAME, \"thead\")\n",
    "        if (len(report_head) == 0 or len(report_head[0].find_elements(By.TAG_NAME, \"th\")) != 1):\n",
    "            continue\n",
    "\n",
    "        #extract comments\n",
    "        report_body = report.find_element(By.TAG_NAME, \"tbody\")\n",
    "        comments = []\n",
    "        report_comments = report_body.find_elements(By.TAG_NAME, \"tr\")\n",
    "        if (len(report_comments)) == 0:\n",
    "            continue\n",
    "\n",
    "        if question not in Questions:\n",
    "            Questions[question] = False\n",
    "        \n",
    "        for comment in report_comments[1:]:\n",
    "            comments.append(comment.text)\n",
    "\n",
    "        text_data[question] = comments\n",
    "\n",
    "        evaluation[\"Evaluation Text Data\"] = text_data\n",
    "\n",
    "        evaluation[\"url\"] = link\n",
    "\n",
    "    return evaluation\n"
   ]
  },
  {
   "cell_type": "code",
   "execution_count": 7,
   "metadata": {},
   "outputs": [],
   "source": [
    "import json\n",
    "\n",
    "def scrape_site(driver, links, evals):\n",
    "    for link in links:\n",
    "        id = get_id(link)\n",
    "        eval = get_eval(driver, link, id)\n",
    "        evals[id] = eval\n"
   ]
  },
  {
   "cell_type": "code",
   "execution_count": 16,
   "metadata": {},
   "outputs": [
    {
     "data": {
      "text/plain": [
       "{'7f6c8819dcb80bc4fed16e3a97122ef7e9334992664ea293262832e79a9f2c419cd4e38ffa15dd4a406e973272af102e': {'Id': '7f6c8819dcb80bc4fed16e3a97122ef7e9334992664ea293262832e79a9f2c419cd4e38ffa15dd4a406e973272af102e',\n",
       "  'Report Title': 'MATH 27700 50, CMSC 27700 50 - Mathematical Logic I - Instructor(s): Benedict Morrissey',\n",
       "  'Catalog Number': [{'Subject': 'MATH', 'CourseId': '27700', 'Section': '50'},\n",
       "   {'Subject': 'CMSC', 'CourseId': '27700', 'Section': '50'}],\n",
       "  'Course Name': 'Mathematical Logic I',\n",
       "  'Instructors': ['Benedict Morrissey'],\n",
       "  'Academic Year': 'Autumn',\n",
       "  'Academic Term': '2022',\n",
       "  'Number Enrolled': '29',\n",
       "  'Number Responses': '13',\n",
       "  'Evaluation Text Data': {'What are the most important things that you learned in this course? Please reflect on the knowledge and skills you gained.': ['Model theory, propositional and first–order logic.',\n",
       "    'Cardinality, propositional logic, first order logic',\n",
       "    'Model Theory, First order logic, and propositional logic.',\n",
       "    'How to apply math to study mathematical theories themselves, their consistency, their models, and their relationship to syntactic proof.',\n",
       "    'Propositional and First Order logic',\n",
       "    \"Cardinals; propositional and first–order proofs and models; semantic and syntactic truth; Gödel's completeness for propositional and (later) first–order logic; compactness\",\n",
       "    'propositional & first order logic syntax and semantics',\n",
       "    'First order logic',\n",
       "    'Semantic/syntactic logic, truth functions, models, 0th and 1st order logic, compactness and completeness theorems, lowenheim–skolem, cardinals (not ordinals)'],\n",
       "   'Describe how aspects of this course (lectures, discussions, labs, assignments, etc.) contributed to your learning.': ['Lectures were helpful.',\n",
       "    'Lectures and homeworks.',\n",
       "    'The lectures were a bit crazy at times, but I think if there was more of a focus on examples it would help at times. Office hours where extremely helpful and homeworks although difficult where always extremely motivated and had a clear purpose.',\n",
       "    'Lecture covered all the material we needed, and then the homework evaluated our understanding of the proof techniques and concepts.',\n",
       "    '100% of the class grade was based on the homework, with one take–home test question on each homework. This format worked really well and removed a lot of pressure from the class.\\nLectures were sometimes difficult to follow.',\n",
       "    'lectures were super helpful, as were the course notes and assignments.',\n",
       "    'Lectures were often confusing, but the course notes helped to clarify things sometimes',\n",
       "    'Lectures taught a lot of useful information, but it was also necessary to refer back to the lecture notes.'],\n",
       "   'Additional comments about the course:': ['Loved it! Prof. Morrissey is great!',\n",
       "    'I enjoyed the class, taking part II this winter. The lack of a set text made things more difficult, but I think a new book is coming out soon that the professor says fits the class well.',\n",
       "    \"I think the material is interesting, but the lectures were not clear, and we didn't follow a textbook (and our instructor didn't use standardized terminology so it was difficult googling things) so I didn't really know how to learn the material well. I also sometimes found the psets to be too difficult for the content we covered in class.\",\n",
       "    \"Even after 10th week we still only had 3 HW's graded, and only 1 grade input in canvas.\"],\n",
       "   \"Thinking about your time in the class, what aspect of the instructor's teaching contributed most to your learning?\": ['Office hours were helpful!',\n",
       "    'He usually presented proofs carefully and made few mistakes.',\n",
       "    'Professor Morrissey was clear when explaining the new concepts and was overall deliberate and well–organized making lectures helpful.',\n",
       "    'Lecture, not because they are excellent, but because that was the only source of information I had to understand what we were learning.',\n",
       "    'The notes we were given at the start of the course were very helpful and made it much easier to follow along.\\n\\nI was able to use accommodations from Student Disability Services without any difficulty or struggle, which I greatly appreciate.',\n",
       "    'just lectures and office hours in general.',\n",
       "    'Willingness to answer questions',\n",
       "    'Lectures were primary, he was also very helpful in office hours.'],\n",
       "   'What could the instructor modify to help you learn more?': ['Nothing.',\n",
       "    'He could have had a bit better of an understanding of which topics were especially hard and made more of an effort to teach them in a way people could understand.',\n",
       "    'One thing that was a bit frustrating in lectures was the deep focus on constructions rather than any applications. It would help to maybe spend more time giving some examples on objects we have discussed and less time constructing things.',\n",
       "    'Not much I can think of.',\n",
       "    \"I can tell that Professor Morrisey puts in an effort to teach us (e.g. he's willing to push back pset deadlines when the class seemed confused, he pauses during lecture to ask if anyone has questions), so I really appreciate him for that because he's at least one of the professors who cares about students' learning, and I have faith he'll become a good professor with more experience.\\n\\nMy main constructive criticism is the lectures: the lectures were sometimes unclear and confusing, probably because logic is such a notation heavy course and the professor sometimes messes up notation on the board or not define what type of object something is before using it in a proof, and the small mistakes would just add up for me. He would also sometimes not explain certain things and I would assume something was one way only to realize that it was another way later. Usually when this happens in a course, I'm okay because we would be following a textbook, and I would just learn from the textbook instead of the professor's lectures. However, for this class, we don't follow any textbooks (Professor Morrisey does publish his lecture notes but I unfortunately don't find them any clearer than his lectures, especially because the details in many proofs were skipped, unlike how things are in textbooks), so I don't have that as a resource. And I know I wasn't the only one who found the lectures confusing, because I talked to other students in the class and it seemed like most people were pretty lost.\\n\\nProfessor Morrisey does mitigate the situation by pausing during lectures and asking if we have any questions, but towards the end of the course, I was so lost that I don't even know what questions to ask to improve my understanding. I think Professor Morrisey is really smart, and he understands the material very well himself, so it's easy to forget details when explaining things, which makes things confusing for students who have never seen any of this before.\\n\\nTo be fair, part of my struggles was also because I was taking a couple other math classes at the same time, so in the last two week, because this class got so confusing and it's less important to me than my other classes, I prioritized studying for my other classes over this class. I know that if I was willing to spend 20+hrs a week on this class, I would be able to master the material by self–studying. But I guess I just think if the lectures were better or if we were following a good textbook, then my life would be much easier.\",\n",
       "    '–',\n",
       "    'Perhaps some of the details of the very long proofs could be left to the typed notes, and lectures used to go over the broader ideas',\n",
       "    'More feedback on assignments. (not more explanation why points were taken off, but grading assignments more frequently)'],\n",
       "   \"Please include the name of the TA/CA/Intern you are evaluating. What aspects of the TA's teaching contributed most to your learning? What could the TA modify to help you learn more? Please include any additional feedback for the TA/CA/Intern.\": [],\n",
       "   'Please comment on the level of difficulty of the course relative to your background and experience.': ['It was pretty hard!',\n",
       "    'This course is very difficult because many of the topics can be difficult to wrap your head around. Even many of the stronger mathematics students in the class seemed to have great difficulty with some of the material.',\n",
       "    'This class is no joke. It is very difficult and I would not recommend for pure CS majors. I took this class along with other challenging classes and found it almost impossible to balance everything. I would say that the workload is more than I experienced in any other class and the content was comparable in difficulty to the honors algebra sequence.',\n",
       "    'The homeworks were a bit difficult, but not unfairly so. A lot of it is dealing with notation which can get unwieldy when dealing with formulas and interpretations as mathematical objects.',\n",
       "    \"Finished the analysis sequence and currently taking algebra, I'd say the material isn't that difficult when explained well but this class was confusing.\",\n",
       "    \"I'm a math major and can't imagine taking this class without a background in writing proofs. I sometimes felt lost on topics I hadn't seen before, but we weren't expected to have a perfect understanding of those related topics without delving into them.\",\n",
       "    'extremely difficult as a computer science major with little to no math background, but was totally worth it for the knowledge gained.',\n",
       "    'Appropriate, I’m a math major with lots of experience writing proofs for problem sets',\n",
       "    'At level to a bit easier']},\n",
       "  'url': 'https://uchicago.bluera.com/uchicago/rpvf-eng.aspx?lang=eng&redi=1&SelectedIDforPrint=7f6c8819dcb80bc4fed16e3a97122ef7e9334992664ea293262832e79a9f2c419cd4e38ffa15dd4a406e973272af102e&ReportType=2&regl=en-US'}}"
      ]
     },
     "execution_count": 16,
     "metadata": {},
     "output_type": "execute_result"
    }
   ],
   "source": [
    "new = {}\n",
    "scrape_site(driver, [\"https://uchicago.bluera.com/uchicago/rpvf-eng.aspx?lang=eng&redi=1&SelectedIDforPrint=7f6c8819dcb80bc4fed16e3a97122ef7e9334992664ea293262832e79a9f2c419cd4e38ffa15dd4a406e973272af102e&ReportType=2&regl=en-US\"],new)\n",
    "new\n"
   ]
  },
  {
   "cell_type": "code",
   "execution_count": 17,
   "metadata": {},
   "outputs": [
    {
     "ename": "KeyboardInterrupt",
     "evalue": "",
     "output_type": "error",
     "traceback": [
      "\u001b[0;31m---------------------------------------------------------------------------\u001b[0m",
      "\u001b[0;31mKeyboardInterrupt\u001b[0m                         Traceback (most recent call last)",
      "\u001b[1;32m/Users/alexwang/projects/coursechat/demo/scrap_eval.ipynb Cell 7\u001b[0m in \u001b[0;36m<cell line: 27>\u001b[0;34m()\u001b[0m\n\u001b[1;32m     <a href='vscode-notebook-cell:/Users/alexwang/projects/coursechat/demo/scrap_eval.ipynb#W5sZmlsZQ%3D%3D?line=23'>24</a>\u001b[0m     json\u001b[39m.\u001b[39mdump(Questions, f) \n\u001b[1;32m     <a href='vscode-notebook-cell:/Users/alexwang/projects/coursechat/demo/scrap_eval.ipynb#W5sZmlsZQ%3D%3D?line=25'>26</a>\u001b[0m Questions \u001b[39m=\u001b[39m {}\n\u001b[0;32m---> <a href='vscode-notebook-cell:/Users/alexwang/projects/coursechat/demo/scrap_eval.ipynb#W5sZmlsZQ%3D%3D?line=26'>27</a>\u001b[0m get_whole_year(driver, \u001b[39m2021\u001b[39;49m)\n\u001b[1;32m     <a href='vscode-notebook-cell:/Users/alexwang/projects/coursechat/demo/scrap_eval.ipynb#W5sZmlsZQ%3D%3D?line=27'>28</a>\u001b[0m q_name \u001b[39m=\u001b[39m \u001b[39m\"\u001b[39m\u001b[39mq_type_2021.py\u001b[39m\u001b[39m\"\u001b[39m\n\u001b[1;32m     <a href='vscode-notebook-cell:/Users/alexwang/projects/coursechat/demo/scrap_eval.ipynb#W5sZmlsZQ%3D%3D?line=28'>29</a>\u001b[0m \u001b[39mwith\u001b[39;00m \u001b[39mopen\u001b[39m(q_name, \u001b[39m\"\u001b[39m\u001b[39mw\u001b[39m\u001b[39m\"\u001b[39m) \u001b[39mas\u001b[39;00m f:\n",
      "\u001b[1;32m/Users/alexwang/projects/coursechat/demo/scrap_eval.ipynb Cell 7\u001b[0m in \u001b[0;36mget_whole_year\u001b[0;34m(driver, year)\u001b[0m\n\u001b[1;32m     <a href='vscode-notebook-cell:/Users/alexwang/projects/coursechat/demo/scrap_eval.ipynb#W5sZmlsZQ%3D%3D?line=10'>11</a>\u001b[0m     \u001b[39mif\u001b[39;00m (\u001b[39mlen\u001b[39m(links) \u001b[39m==\u001b[39m \u001b[39m0\u001b[39m):\n\u001b[1;32m     <a href='vscode-notebook-cell:/Users/alexwang/projects/coursechat/demo/scrap_eval.ipynb#W5sZmlsZQ%3D%3D?line=11'>12</a>\u001b[0m         \u001b[39mcontinue\u001b[39;00m\n\u001b[0;32m---> <a href='vscode-notebook-cell:/Users/alexwang/projects/coursechat/demo/scrap_eval.ipynb#W5sZmlsZQ%3D%3D?line=12'>13</a>\u001b[0m     scrape_site(driver, links, evals)\n\u001b[1;32m     <a href='vscode-notebook-cell:/Users/alexwang/projects/coursechat/demo/scrap_eval.ipynb#W5sZmlsZQ%3D%3D?line=14'>15</a>\u001b[0m f_name \u001b[39m=\u001b[39m \u001b[39m\"\u001b[39m\u001b[39mdata2/\u001b[39m\u001b[39m\"\u001b[39m \u001b[39m+\u001b[39m \u001b[39mstr\u001b[39m(year) \u001b[39m+\u001b[39m \u001b[39m\"\u001b[39m\u001b[39m.json\u001b[39m\u001b[39m\"\u001b[39m\n\u001b[1;32m     <a href='vscode-notebook-cell:/Users/alexwang/projects/coursechat/demo/scrap_eval.ipynb#W5sZmlsZQ%3D%3D?line=15'>16</a>\u001b[0m \u001b[39mwith\u001b[39;00m \u001b[39mopen\u001b[39m(f_name, \u001b[39m\"\u001b[39m\u001b[39mw\u001b[39m\u001b[39m\"\u001b[39m) \u001b[39mas\u001b[39;00m f:\n",
      "\u001b[1;32m/Users/alexwang/projects/coursechat/demo/scrap_eval.ipynb Cell 7\u001b[0m in \u001b[0;36mscrape_site\u001b[0;34m(driver, links, evals)\u001b[0m\n\u001b[1;32m      <a href='vscode-notebook-cell:/Users/alexwang/projects/coursechat/demo/scrap_eval.ipynb#W5sZmlsZQ%3D%3D?line=3'>4</a>\u001b[0m \u001b[39mfor\u001b[39;00m link \u001b[39min\u001b[39;00m links:\n\u001b[1;32m      <a href='vscode-notebook-cell:/Users/alexwang/projects/coursechat/demo/scrap_eval.ipynb#W5sZmlsZQ%3D%3D?line=4'>5</a>\u001b[0m     \u001b[39mid\u001b[39m \u001b[39m=\u001b[39m get_id(link)\n\u001b[0;32m----> <a href='vscode-notebook-cell:/Users/alexwang/projects/coursechat/demo/scrap_eval.ipynb#W5sZmlsZQ%3D%3D?line=5'>6</a>\u001b[0m     \u001b[39meval\u001b[39m \u001b[39m=\u001b[39m get_eval(driver, link, \u001b[39mid\u001b[39;49m)\n\u001b[1;32m      <a href='vscode-notebook-cell:/Users/alexwang/projects/coursechat/demo/scrap_eval.ipynb#W5sZmlsZQ%3D%3D?line=6'>7</a>\u001b[0m     evals[\u001b[39mid\u001b[39m] \u001b[39m=\u001b[39m \u001b[39meval\u001b[39m\n",
      "\u001b[1;32m/Users/alexwang/projects/coursechat/demo/scrap_eval.ipynb Cell 7\u001b[0m in \u001b[0;36mget_eval\u001b[0;34m(driver, link, id)\u001b[0m\n\u001b[1;32m      <a href='vscode-notebook-cell:/Users/alexwang/projects/coursechat/demo/scrap_eval.ipynb#W5sZmlsZQ%3D%3D?line=3'>4</a>\u001b[0m evaluation[\u001b[39m'\u001b[39m\u001b[39mId\u001b[39m\u001b[39m'\u001b[39m] \u001b[39m=\u001b[39m \u001b[39mid\u001b[39m\n\u001b[1;32m      <a href='vscode-notebook-cell:/Users/alexwang/projects/coursechat/demo/scrap_eval.ipynb#W5sZmlsZQ%3D%3D?line=4'>5</a>\u001b[0m driver\u001b[39m.\u001b[39mget(link)\n\u001b[0;32m----> <a href='vscode-notebook-cell:/Users/alexwang/projects/coursechat/demo/scrap_eval.ipynb#W5sZmlsZQ%3D%3D?line=5'>6</a>\u001b[0m time\u001b[39m.\u001b[39;49msleep(\u001b[39m1\u001b[39;49m)\n\u001b[1;32m      <a href='vscode-notebook-cell:/Users/alexwang/projects/coursechat/demo/scrap_eval.ipynb#W5sZmlsZQ%3D%3D?line=7'>8</a>\u001b[0m \u001b[39m# Get eval metadata\u001b[39;00m\n\u001b[1;32m      <a href='vscode-notebook-cell:/Users/alexwang/projects/coursechat/demo/scrap_eval.ipynb#W5sZmlsZQ%3D%3D?line=8'>9</a>\u001b[0m report_metadata \u001b[39m=\u001b[39m driver\u001b[39m.\u001b[39mfind_element(By\u001b[39m.\u001b[39mCLASS_NAME, \u001b[39m\"\u001b[39m\u001b[39mmetadata\u001b[39m\u001b[39m\"\u001b[39m)\n",
      "\u001b[0;31mKeyboardInterrupt\u001b[0m: "
     ]
    }
   ],
   "source": [
    "# Scrape one year for all department\n",
    "from majors import majors\n",
    "quarters = ['Summer', 'Autumn', 'Winter', 'Spring']\n",
    "\n",
    "def get_whole_year(driver, year):\n",
    "    evals = {}\n",
    "\n",
    "    for major in majors:\n",
    "        links = get_links(driver, major, year, 'All')\n",
    "        time.sleep(5)\n",
    "        if (len(links) == 0):\n",
    "            continue\n",
    "        scrape_site(driver, links, evals)\n",
    "\n",
    "    f_name = \"data2/\" + str(year) + \".json\"\n",
    "    with open(f_name, \"w\") as f:\n",
    "        json.dump(evals, f)\n",
    "\n",
    "    return evals\n",
    "\n",
    "get_whole_year(driver, 2022)\n",
    "q_name = \"q_type_2022.py\"\n",
    "with open(q_name, \"w\") as f:\n",
    "    json.dump(Questions, f) \n",
    "\n",
    "Questions = {}\n",
    "get_whole_year(driver, 2021)\n",
    "q_name = \"q_type_2021.py\"\n",
    "with open(q_name, \"w\") as f:\n",
    "    json.dump(Questions, f) \n"
   ]
  },
  {
   "cell_type": "code",
   "execution_count": 11,
   "metadata": {},
   "outputs": [
    {
     "name": "stdout",
     "output_type": "stream",
     "text": [
      "{'What are the most important things that you learned in this course? Please reflect on the knowledge and skills you gained.': False, 'Describe how aspects of this course (lectures, discussions, labs, assignments, etc.) contributed to your learning.': False, 'Additional comments about the course:': False, \"Thinking about your time in the class, what aspect of the instructor's teaching contributed most to your learning?\": False, 'What could the instructor modify to help you learn more?': False, \"Please include the name of the TA/CA/Intern you are evaluating. What aspects of the TA's teaching contributed most to your learning? What could the TA modify to help you learn more? Please include any additional feedback for the TA/CA/Intern.\": False, 'Other course elements not mentioned above:': False, 'Please comment on the level of difficulty of the course relative to your background and experience.': False, \"What aspect of the instructor's teaching contributed most to your learning?\": False, 'Please review and evaluate your work in this course overall.': False, 'Please elaborate on any of your responses above.': False, 'What aspects of the instructor’s teaching contributed most and least to your learning?': False, 'Please suggest any changes that could improve this course (e.g., class material, class structure, assignments, inclusive pedagogy).': False, 'Please comment on how respected, valued, and included you felt as a participant in the course.': False, \"Please include the name of the TA you are evaluating. What aspects of the TA's teaching contributed most to your learning? What could the TA modify to help you learn more? Please include any additional feedback for the TA.\": False, 'Are there aspects or topics that were part of this course you feel should be emphasized more or emphasized less in the future.': False, 'Would you be interested in a second, more in-depth course with this course as a prerequisite? If so what should be the emphasis of such a course?': False, \"Please include the name of the TA(s) you are evaluating. What aspects of the TA's or TAs’ teaching contributed most to your learning? What could the TA(s) modify to help you learn more? Please include any additional feedback for the TA(s).\": False}\n"
     ]
    }
   ],
   "source": []
  }
 ],
 "metadata": {
  "kernelspec": {
   "display_name": "Python 3",
   "language": "python",
   "name": "python3"
  },
  "language_info": {
   "codemirror_mode": {
    "name": "ipython",
    "version": 3
   },
   "file_extension": ".py",
   "mimetype": "text/x-python",
   "name": "python",
   "nbconvert_exporter": "python",
   "pygments_lexer": "ipython3",
   "version": "3.10.1"
  },
  "orig_nbformat": 4
 },
 "nbformat": 4,
 "nbformat_minor": 2
}
