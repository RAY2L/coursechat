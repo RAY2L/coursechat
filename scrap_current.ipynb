{
 "cells": [
  {
   "cell_type": "code",
   "execution_count": 2,
   "metadata": {},
   "outputs": [],
   "source": [
    "from selenium import webdriver\n",
    "from selenium.webdriver.common.keys import Keys\n",
    "from selenium.webdriver.common.by import By\n",
    "import time\n",
    "from parse import parse\n",
    "\n",
    "# Initializing driver\n",
    "driver = webdriver.Firefox()\n",
    "driver.get(\"https://ais92psprd.ais.uchicago.edu/psc/psprd/EMPLOYEE/SA/c/UC_STUDENT_RECORDS_FL.UC_SSR_CLSRCH_FL.GBL?SC_ID=UC_S201904041627038929193014&cmd=uninav&Rnode=SA&uninavpath=Root{PORTAL_ROOT_OBJECT}.Portal%20Objects{PORTAL_BASE_DATA}.Navigation%20Collections{CO_NAVIGATION_COLLECTIONS}.Student%20Quick%20Links{UC_STUDENT_QUICK_LINKS}\")\n",
    "time.sleep(35)\n",
    "\n",
    "# Enter your credientials here"
   ]
  },
  {
   "cell_type": "code",
   "execution_count": 38,
   "metadata": {},
   "outputs": [],
   "source": [
    "def get_courses(driver, courses):\n",
    "    \n",
    "    for i in range(25):\n",
    "        box_tag = \"DESCR100$0_row_\" + str(i)\n",
    "        course = driver.find_elements(By.ID, box_tag)\n",
    "        if (course == []):\n",
    "            break\n",
    "        \n",
    "        dic = {}\n",
    "        num_tag = \"win0divUC_RSLT_NAV_WRK_HTMLAREA$\" + str(i)\n",
    "        num = course[0].find_element(By.ID, num_tag)\n",
    "        courses[num.text] = dic\n",
    "\n",
    "        dep, num = num.text.split(' ')[:2]\n",
    "        num, section = num.strip().split('/')\n",
    "        dic[\"Subject\"] = dep\n",
    "        dic[\"CourseId\"] = num\n",
    "        dic[\"Section\"] = section\n",
    "\n",
    "\n",
    "        name_tag = \"win0divUC_CLSRCH_WRK_UC_CLASS_TITLE$\" + str(i)\n",
    "        name = course[0].find_element(By.ID, name_tag)\n",
    "        dic[\"Course Name\"] = name.text\n",
    "\n",
    "        time_tag = \"win0divUC_PREREG_WRK_DESCRLONG$\" + str(i)\n",
    "        time = course[0].find_element(By.ID, time_tag)\n",
    "        dic[\"Offer time\"] = time.text\n",
    "\n",
    "        instr_tag = \"win0divUC_CLSRCH_WRK_SSR_INSTR_LONG$\" + str(i)\n",
    "        instr = course[0].find_element(By.ID, instr_tag)\n",
    "        dic[\"Instuctor\"] = instr.text\n",
    "    \n",
    "    "
   ]
  },
  {
   "cell_type": "code",
   "execution_count": 39,
   "metadata": {},
   "outputs": [
    {
     "data": {
      "text/plain": [
       "{'ASLG 10100/1 [83254] - LEC In-Person Open Cross-Listed': {'Subject': 'ASLG',\n",
       "  'CourseId': '10100',\n",
       "  'Section': '1',\n",
       "  'Course Name': 'American Sign Language-I',\n",
       "  'Offer time': 'Mon Wed Fri : 10:30 AM-11:20 AM',\n",
       "  'Instuctor': 'Reinhart'},\n",
       " 'ASLG 10100/2 [83255] - LEC In-Person Open Cross-Listed': {'Subject': 'ASLG',\n",
       "  'CourseId': '10100',\n",
       "  'Section': '2',\n",
       "  'Course Name': 'American Sign Language-I',\n",
       "  'Offer time': 'Mon Wed Fri : 11:30 AM-12:20 PM',\n",
       "  'Instuctor': 'Reinhart'},\n",
       " 'ASLG 10400/1 [83258] - LEC In-Person Open Cross-Listed': {'Subject': 'ASLG',\n",
       "  'CourseId': '10400',\n",
       "  'Section': '1',\n",
       "  'Course Name': 'Intermediate American Sign Language I',\n",
       "  'Offer time': 'Mon Wed Fri : 12:30 PM-01:20 PM',\n",
       "  'Instuctor': 'Reinhart'}}"
      ]
     },
     "execution_count": 39,
     "metadata": {},
     "output_type": "execute_result"
    }
   ],
   "source": [
    "#driver.get(\"https://ais92psprd.ais.uchicago.edu/psc/psprd/EMPLOYEE/SA/c/UC_STUDENT_RECORDS_FL.UC_SSR_CLSRCH_FL.GBL?SC_ID=UC_S201904041627038929193014&cmd=uninav&Rnode=SA&uninavpath=Root{PORTAL_ROOT_OBJECT}.Portal%20Objects{PORTAL_BASE_DATA}.Navigation%20Collections{CO_NAVIGATION_COLLECTIONS}.Student%20Quick%20Links{UC_STUDENT_QUICK_LINKS}\")\n",
    "\n",
    "courses = {}\n",
    "get_courses(driver, courses)\n",
    "\n",
    "courses"
   ]
  },
  {
   "cell_type": "code",
   "execution_count": 24,
   "metadata": {},
   "outputs": [
    {
     "ename": "KeyboardInterrupt",
     "evalue": "",
     "output_type": "error",
     "traceback": [
      "\u001b[0;31m---------------------------------------------------------------------------\u001b[0m",
      "\u001b[0;31mKeyboardInterrupt\u001b[0m                         Traceback (most recent call last)",
      "\u001b[1;32m/Users/alexwang/projects/coursechat/demo/scrap_current.ipynb Cell 2\u001b[0m in \u001b[0;36m<cell line: 7>\u001b[0;34m()\u001b[0m\n\u001b[1;32m      <a href='vscode-notebook-cell:/Users/alexwang/projects/coursechat/demo/scrap_current.ipynb#W1sZmlsZQ%3D%3D?line=7'>8</a>\u001b[0m major[i\u001b[39m+\u001b[39m\u001b[39m1\u001b[39m]\u001b[39m.\u001b[39mclick()\n\u001b[1;32m      <a href='vscode-notebook-cell:/Users/alexwang/projects/coursechat/demo/scrap_current.ipynb#W1sZmlsZQ%3D%3D?line=8'>9</a>\u001b[0m search\u001b[39m.\u001b[39mclick()\n\u001b[0;32m---> <a href='vscode-notebook-cell:/Users/alexwang/projects/coursechat/demo/scrap_current.ipynb#W1sZmlsZQ%3D%3D?line=9'>10</a>\u001b[0m time\u001b[39m.\u001b[39;49msleep(\u001b[39m5\u001b[39;49m)\n\u001b[1;32m     <a href='vscode-notebook-cell:/Users/alexwang/projects/coursechat/demo/scrap_current.ipynb#W1sZmlsZQ%3D%3D?line=11'>12</a>\u001b[0m search \u001b[39m=\u001b[39m driver\u001b[39m.\u001b[39mfind_element(By\u001b[39m.\u001b[39mID, \u001b[39m\"\u001b[39m\u001b[39mUC_CLSRCH_WRK2_SEARCH_BTN\u001b[39m\u001b[39m\"\u001b[39m)\n\u001b[1;32m     <a href='vscode-notebook-cell:/Users/alexwang/projects/coursechat/demo/scrap_current.ipynb#W1sZmlsZQ%3D%3D?line=12'>13</a>\u001b[0m majors \u001b[39m=\u001b[39m driver\u001b[39m.\u001b[39mfind_element(By\u001b[39m.\u001b[39mID, \u001b[39m\"\u001b[39m\u001b[39mUC_CLSRCH_WRK2_SUBJECT\u001b[39m\u001b[39m\"\u001b[39m)\n",
      "\u001b[0;31mKeyboardInterrupt\u001b[0m: "
     ]
    }
   ],
   "source": [
    "driver.get(\"https://ais92psprd.ais.uchicago.edu/psc/psprd/EMPLOYEE/SA/c/UC_STUDENT_RECORDS_FL.UC_SSR_CLSRCH_FL.GBL?SC_ID=UC_S201904041627038929193014&cmd=uninav&Rnode=SA&uninavpath=Root{PORTAL_ROOT_OBJECT}.Portal%20Objects{PORTAL_BASE_DATA}.Navigation%20Collections{CO_NAVIGATION_COLLECTIONS}.Student%20Quick%20Links{UC_STUDENT_QUICK_LINKS}\")\n",
    "\n",
    "search = driver.find_element(By.ID, \"UC_CLSRCH_WRK2_SEARCH_BTN\")\n",
    "majors = driver.find_element(By.ID, \"UC_CLSRCH_WRK2_SUBJECT\")\n",
    "major = majors.find_elements(By.TAG_NAME, \"option\")\n",
    "\n",
    "for i in range(len(major)):      \n",
    "    major[i+1].click()\n",
    "    search.click()\n",
    "    \n",
    "    time.sleep(5)\n",
    "\n",
    "    search = driver.find_element(By.ID, \"UC_CLSRCH_WRK2_SEARCH_BTN\")\n",
    "    majors = driver.find_element(By.ID, \"UC_CLSRCH_WRK2_SUBJECT\")\n",
    "    major = majors.find_elements(By.TAG_NAME, \"option\")\n"
   ]
  }
 ],
 "metadata": {
  "kernelspec": {
   "display_name": "Python 3",
   "language": "python",
   "name": "python3"
  },
  "language_info": {
   "codemirror_mode": {
    "name": "ipython",
    "version": 3
   },
   "file_extension": ".py",
   "mimetype": "text/x-python",
   "name": "python",
   "nbconvert_exporter": "python",
   "pygments_lexer": "ipython3",
   "version": "3.10.1"
  },
  "orig_nbformat": 4
 },
 "nbformat": 4,
 "nbformat_minor": 2
}
