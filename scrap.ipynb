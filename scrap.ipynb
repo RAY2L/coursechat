{
 "cells": [
  {
   "cell_type": "code",
   "execution_count": 12,
   "metadata": {},
   "outputs": [],
   "source": [
    "import requests\n",
    "from bs4 import BeautifulSoup\n",
    "import pandas as pd\n",
    "\n",
    "URL = \"http://collegecatalog.uchicago.edu/thecollege/computerscience/\"\n",
    "page = requests.get(URL)\n",
    "\n",
    "soup = BeautifulSoup(page.content, \"html.parser\")"
   ]
  },
  {
   "cell_type": "code",
   "execution_count": 43,
   "metadata": {},
   "outputs": [],
   "source": [
    "result = []\n",
    "courses = soup.find_all(\"div\", class_= \"courseblock main\")\n",
    "\n",
    "for course in courses:\n",
    "    title = course.find(\"p\", class_=\"courseblocktitle\").text.replace(u'\\xa0', u' ')\n",
    "    num, name, unit = title.split('.')[:3]\n",
    "    desc = course.find(\"p\", class_=\"courseblockdesc\").text.strip().replace('\\n', ',')\n",
    "    detail = course.find(\"p\", class_=\"courseblockdetail\")\n",
    "    if (detail):\n",
    "        detail = detail.text.strip().replace('\\n', ',')\n",
    "\n",
    "    result.append([num.strip(), name.strip(), unit.strip(), desc, detail])\n",
    "    \n",
    "df = pd.DataFrame(data=result, columns=[\"course number\", \"course name\", \"course unit\", \"description\", \"details\"])\n",
    "df.to_csv(\"courses.csv\", index=False)"
   ]
  },
  {
   "cell_type": "code",
   "execution_count": null,
   "metadata": {},
   "outputs": [],
   "source": []
  }
 ],
 "metadata": {
  "kernelspec": {
   "display_name": "Python 3",
   "language": "python",
   "name": "python3"
  },
  "language_info": {
   "codemirror_mode": {
    "name": "ipython",
    "version": 3
   },
   "file_extension": ".py",
   "mimetype": "text/x-python",
   "name": "python",
   "nbconvert_exporter": "python",
   "pygments_lexer": "ipython3",
   "version": "3.10.1"
  },
  "orig_nbformat": 4
 },
 "nbformat": 4,
 "nbformat_minor": 2
}
